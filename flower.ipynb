{
 "cells": [
  {
   "cell_type": "code",
   "execution_count": 1,
   "metadata": {},
   "outputs": [],
   "source": [
    "import turtle\n",
    "t=turtle.Turtle()\n",
    "s=turtle.Screen()\n",
    "s.bgcolor('#262626')\n",
    "t.pencolor('#7C909C')\n",
    "t.speed(100)\n",
    "col=('#ED7864','#6E544F','#592F2F','#6E382E')\n",
    "for n in range(5):\n",
    "    for x in range(8):\n",
    "        t.speed(x+10)\n",
    "        for i in range(2):\n",
    "            t.pensize(2)\n",
    "            t.circle(80+n*20,90)\n",
    "            t.lt(90)\n",
    "        t.lt(45)\n",
    "    t.pencolor(col[n%4])\n",
    "s.exitonclick()"
   ]
  },
  {
   "cell_type": "code",
   "execution_count": null,
   "metadata": {},
   "outputs": [],
   "source": []
  }
 ],
 "metadata": {
  "kernelspec": {
   "display_name": "Python 3",
   "language": "python",
   "name": "python3"
  },
  "language_info": {
   "codemirror_mode": {
    "name": "ipython",
    "version": 3
   },
   "file_extension": ".py",
   "mimetype": "text/x-python",
   "name": "python",
   "nbconvert_exporter": "python",
   "pygments_lexer": "ipython3",
   "version": "3.8.5"
  }
 },
 "nbformat": 4,
 "nbformat_minor": 4
}
